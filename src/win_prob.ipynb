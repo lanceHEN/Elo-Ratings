{
 "cells": [
  {
   "cell_type": "code",
   "execution_count": 1,
   "id": "fa3f8d26",
   "metadata": {},
   "outputs": [],
   "source": [
    "import pandas as pd\n",
    "from utils.utils import load_all_games_csv, get_teams, basic_win_prob_for_et\n",
    "from elos.elo_tracker import EloTracker\n",
    "import autograd.numpy as np\n",
    "from autograd import grad\n",
    "from sklearn.metrics import log_loss, accuracy_score\n",
    "from sklearn.linear_model import LogisticRegression\n",
    "from scipy.special import expit\n",
    "from matplotlib import pyplot as plt\n",
    "from typing import Tuple\n"
   ]
  },
  {
   "cell_type": "markdown",
   "id": "dfb33355",
   "metadata": {},
   "source": [
    "# Win Probability Analysis\n",
    "\n",
    "This notebook will compare several different methods to estimate win probabilities from Elo ratings, and possibly home advantage, travel distance, and rest days."
   ]
  },
  {
   "cell_type": "markdown",
   "id": "4c9dcd89",
   "metadata": {},
   "source": [
    "## Get all Games"
   ]
  },
  {
   "cell_type": "code",
   "execution_count": 16,
   "id": "b39d5800",
   "metadata": {},
   "outputs": [
    {
     "name": "stderr",
     "output_type": "stream",
     "text": [
      "/Users/lancehendricks/Documents/College Coding/ML/Elo Ratings/src/utils/utils.py:18: DtypeWarning: Columns (10,11,13,17,19,21,27,28) have mixed types. Specify dtype option on import or set low_memory=False.\n",
      "  all_games = pd.read_csv(filename)\n"
     ]
    }
   ],
   "source": [
    "all_games = load_all_games_csv('../data/gameinfo_cleaned.csv')"
   ]
  },
  {
   "cell_type": "code",
   "execution_count": 17,
   "id": "b7d093f2",
   "metadata": {},
   "outputs": [],
   "source": [
    "# Drop rows with na travel distance or rest\n",
    "all_games = all_games.dropna(subset=['visdistancetraveled', 'homerestdays', 'visrestdays']).copy()"
   ]
  },
  {
   "cell_type": "code",
   "execution_count": 18,
   "id": "c351f133",
   "metadata": {},
   "outputs": [],
   "source": [
    "# Max rest days\n",
    "#all_games['visrestdays'] = all_games['visrestdays'].apply(lambda x: min(6,x))\n",
    "#all_games['homerestdays'] = all_games['homerestdays'].apply(lambda x: min(6,x))\n"
   ]
  },
  {
   "cell_type": "code",
   "execution_count": 19,
   "id": "073e3246",
   "metadata": {},
   "outputs": [],
   "source": [
    "# Take cube root of distance traveled\n",
    "all_games['visdistancetraveled'] = all_games['visdistancetraveled']**(1/3)"
   ]
  },
  {
   "cell_type": "markdown",
   "id": "b664b399",
   "metadata": {},
   "source": [
    "## Function for Evaluating Performance"
   ]
  },
  {
   "cell_type": "code",
   "execution_count": 20,
   "id": "7bae49c7",
   "metadata": {},
   "outputs": [],
   "source": [
    "def add_elos_to_games_df(games_df: pd.DataFrame, elo_prob_func=basic_win_prob_for_et) -> pd.DataFrame:\n",
    "    \"\"\"Returns a version of games_df with columns 'homeelo' and 'viselo' added, which\n",
    "    are calculated in part with the Elo probability function, elo_prob_func.\n",
    "    \n",
    "    Args:\n",
    "        games_df (pd.DataFrame): Table whose rows are chronologically ordered game box scores,\n",
    "                including columns 'hometeam' for the home team, 'visteam' for the away team, and\n",
    "                'homewon' which is True if home won and False otherwise. Each game in game_df must take\n",
    "                place after the games that have already been logged for the given teams it includes.\n",
    "                Must be indexed by a game id column 'gid'.\n",
    "        elo_prob_func (function): Function that takes in a home elo, away elo, and game information\n",
    "            (i.e. row of box scores dataframe) and produces the probability of the home team winning.\n",
    "    \"\"\"\n",
    "    games_df = games_df.copy() # Don't modify original\n",
    "    \n",
    "    teams = get_teams(games_df)\n",
    "    \n",
    "    # First, get all Elo ratings\n",
    "    et = EloTracker(teams, elo_prob_func=elo_prob_func)\n",
    "    \n",
    "    et.add_history(games_df)\n",
    "    \n",
    "    # Add raw pre-game Elo Ratings\n",
    "    games_df['homeelo'] = [0.0] * len(games_df)\n",
    "    games_df['viselo'] = [0.0] * len(games_df)\n",
    "\n",
    "    for team in teams:\n",
    "        for game in et.elos_map[team]:\n",
    "            gid = game[0]\n",
    "            elo = game[2]\n",
    "            #print(elo)\n",
    "        \n",
    "            if games_df.loc[gid,'hometeam'] == team:\n",
    "                games_df.loc[gid,'homeelo'] = elo\n",
    "            else:\n",
    "                games_df.loc[gid,'viselo'] = elo\n",
    "                \n",
    "    return games_df"
   ]
  },
  {
   "cell_type": "code",
   "execution_count": 21,
   "id": "97d004b1",
   "metadata": {},
   "outputs": [],
   "source": [
    "def evaluate_elo_prob_func(games_df: pd.DataFrame, elo_prob_func=basic_win_prob_for_et) -> Tuple[float, float]:\n",
    "    \"\"\"Evaluates how well the given function to calculate Elo probabilties does on games_df,\n",
    "    producing binary cross entropy and accuracy.\n",
    "    \n",
    "    Args:\n",
    "        games_df (pd.DataFrame): Table whose rows are chronologically ordered game box scores,\n",
    "                including columns 'hometeam' for the home team, 'visteam' for the away team, and\n",
    "                'homewon' which is True if home won and False otherwise. Each game in game_df must take\n",
    "                place after the games that have already been logged for the given teams it includes.\n",
    "                Must be indexed by a game id column 'gid'.\n",
    "        elo_prob_func (function): Function that takes in a home elo, away elo, and game information\n",
    "            (i.e. row of box scores dataframe) and produces the probability of the home team winning.\n",
    "    \"\"\"\n",
    "    \n",
    "    # Add elos\n",
    "    games_df = add_elos_to_games_df(games_df, elo_prob_func)\n",
    "        \n",
    "    games_df['homewinprob'] = games_df.apply(lambda game: elo_prob_func(game['homeelo'], game['viselo'], game), axis=1)\n",
    "    bce = log_loss(games_df['homewon'], games_df['homewinprob'])\n",
    "    accuracy = accuracy_score(games_df['homewon'], round(games_df['homewinprob']))\n",
    "    \n",
    "    return bce, accuracy"
   ]
  },
  {
   "cell_type": "markdown",
   "id": "0c3363de",
   "metadata": {},
   "source": [
    "## Evaluate Simple Probability model"
   ]
  },
  {
   "cell_type": "code",
   "execution_count": 8,
   "id": "559a9f15",
   "metadata": {},
   "outputs": [
    {
     "name": "stdout",
     "output_type": "stream",
     "text": [
      "BCE: 0.6915706414224319\n",
      "Accuracy: 0.5533529329413411\n"
     ]
    }
   ],
   "source": [
    "bce, accuracy = evaluate_elo_prob_func(all_games, basic_win_prob_for_et)\n",
    "print(f\"BCE: {bce}\")\n",
    "print(f\"Accuracy: {accuracy}\")"
   ]
  },
  {
   "cell_type": "markdown",
   "id": "958d3319",
   "metadata": {},
   "source": [
    "## With +28 Adjustment for Home Team"
   ]
  },
  {
   "cell_type": "code",
   "execution_count": 9,
   "id": "d32b631a",
   "metadata": {},
   "outputs": [
    {
     "name": "stdout",
     "output_type": "stream",
     "text": [
      "BCE: 0.6884828083280746\n",
      "Accuracy: 0.5603014606374539\n"
     ]
    }
   ],
   "source": [
    "bce, accuracy = evaluate_elo_prob_func(all_games, lambda home_elo, away_elo, game_info: basic_win_prob_for_et(home_elo + 28, away_elo, game_info))\n",
    "print(f\"BCE: {bce}\")\n",
    "print(f\"Accuracy: {accuracy}\")"
   ]
  },
  {
   "cell_type": "markdown",
   "id": "720cb0ab",
   "metadata": {},
   "source": [
    "## With + 1.9% Adjustment for Home Team"
   ]
  },
  {
   "cell_type": "code",
   "execution_count": 10,
   "id": "f12c5683",
   "metadata": {},
   "outputs": [
    {
     "name": "stdout",
     "output_type": "stream",
     "text": [
      "BCE: 0.6886684005841096\n",
      "Accuracy: 0.5601941294507443\n"
     ]
    }
   ],
   "source": [
    "bce, accuracy = evaluate_elo_prob_func(all_games, lambda home_elo, away_elo, game_info: basic_win_prob_for_et(home_elo*1.019, away_elo, game_info))\n",
    "print(f\"BCE: {bce}\")\n",
    "print(f\"Accuracy: {accuracy}\")"
   ]
  },
  {
   "cell_type": "markdown",
   "id": "e8c13e2a",
   "metadata": {},
   "source": [
    "## With Logistic Regression"
   ]
  },
  {
   "cell_type": "code",
   "execution_count": 22,
   "id": "5934e9ad",
   "metadata": {},
   "outputs": [],
   "source": [
    "# First need to fit using some Elos - use the initial basic probability func.\n",
    "\n",
    "df_to_fit = add_elos_to_games_df(all_games)\n"
   ]
  },
  {
   "cell_type": "code",
   "execution_count": 23,
   "id": "1c4cd314",
   "metadata": {},
   "outputs": [],
   "source": [
    "df_to_fit['elodiff'] = df_to_fit['viselo'] - df_to_fit['homeelo']\n",
    "df_to_fit['restdiff'] = df_to_fit['visrestdays'] - df_to_fit['homerestdays']\n",
    "df_to_fit['distancediff'] = df_to_fit['visdistancetraveled'] - 0\n",
    "#df_to_fit['homediff'] =  0 - 1\n",
    "\n",
    "features = ['elodiff', 'distancediff', 'restdiff']\n",
    "X = df_to_fit[features].to_numpy()\n",
    "y = df_to_fit['homewon'].astype(int).to_numpy().reshape(-1,1)\n",
    "\n",
    "s = -np.log(10) / 400"
   ]
  },
  {
   "cell_type": "code",
   "execution_count": 24,
   "id": "f0e2a1aa",
   "metadata": {},
   "outputs": [
    {
     "data": {
      "text/plain": [
       "array([[-0.00575646],\n",
       "       [ 0.01704371],\n",
       "       [-0.00254494]])"
      ]
     },
     "execution_count": 24,
     "metadata": {},
     "output_type": "execute_result"
    }
   ],
   "source": [
    "# Fit via GD\n",
    "w = np.zeros((3,1))\n",
    "w[0,0] = s # Becomes 1 once dividing by s\n",
    "\n",
    "step = 0.01 # Slightly higher for small gradients\n",
    "iterations = 20000\n",
    "\n",
    "for _ in range(iterations):\n",
    "\n",
    "    z = X @ w\n",
    "    y_hat = expit(z)\n",
    "    \n",
    "    w_grad = (1/X.shape[0]) * X.T @ (y_hat - y)\n",
    "    \n",
    "    w_grad[0,0] = 0\n",
    "    \n",
    "    #print(w_grad)\n",
    "    \n",
    "    w = w - step*w_grad\n",
    "    \n",
    "w"
   ]
  },
  {
   "cell_type": "code",
   "execution_count": 25,
   "id": "13e07899",
   "metadata": {},
   "outputs": [
    {
     "data": {
      "text/plain": [
       "array([[ 1.        ],\n",
       "       [-2.96079518],\n",
       "       [ 0.44210084]])"
      ]
     },
     "execution_count": 25,
     "metadata": {},
     "output_type": "execute_result"
    }
   ],
   "source": [
    "# Convert back to interpretable coefficients for individual Elo adjustments\n",
    "w = (1/s) * w\n",
    "w"
   ]
  },
  {
   "cell_type": "code",
   "execution_count": 26,
   "id": "33afa1c5",
   "metadata": {},
   "outputs": [],
   "source": [
    "def p(X,w):\n",
    "    \"\"\"Vector form Elo pdf for a tabular input.\"\"\"\n",
    "    z = X @ w\n",
    "    return expit((-np.log(10) / 400) * z)"
   ]
  },
  {
   "cell_type": "code",
   "execution_count": 27,
   "id": "9c7df234",
   "metadata": {},
   "outputs": [],
   "source": [
    "def predict_lr(home_elo, away_elo, game):\n",
    "    \n",
    "    elo_diff = away_elo - home_elo\n",
    "    rest_day_diff = game['visrestdays'] - game['homerestdays']\n",
    "    travel_diff = game['visdistancetraveled'] - 0\n",
    "    #home_adv_diff = 0 - 1\n",
    "    \n",
    "    x = np.array([elo_diff, travel_diff, rest_day_diff]).reshape(-1,1) \n",
    "    return p(x.T, w).item()"
   ]
  },
  {
   "cell_type": "code",
   "execution_count": 28,
   "id": "b641a43b",
   "metadata": {},
   "outputs": [
    {
     "name": "stdout",
     "output_type": "stream",
     "text": [
      "BCE: 0.688622590357177\n",
      "Accuracy: 0.5603455921135544\n"
     ]
    }
   ],
   "source": [
    "bce, accuracy = evaluate_elo_prob_func(all_games, predict_lr)\n",
    "print(f\"BCE: {bce}\")\n",
    "print(f\"Accuracy: {accuracy}\")"
   ]
  }
 ],
 "metadata": {
  "kernelspec": {
   "display_name": "base",
   "language": "python",
   "name": "python3"
  },
  "language_info": {
   "codemirror_mode": {
    "name": "ipython",
    "version": 3
   },
   "file_extension": ".py",
   "mimetype": "text/x-python",
   "name": "python",
   "nbconvert_exporter": "python",
   "pygments_lexer": "ipython3",
   "version": "3.12.4"
  }
 },
 "nbformat": 4,
 "nbformat_minor": 5
}
