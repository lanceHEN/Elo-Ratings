{
 "cells": [
  {
   "cell_type": "code",
   "execution_count": 1,
   "id": "fa3f8d26",
   "metadata": {},
   "outputs": [],
   "source": [
    "import pandas as pd\n",
    "from utils.utils import load_all_games_csv, get_teams\n",
    "from elos.elo_tracker import EloTracker\n",
    "import numpy as np\n",
    "from sklearn.metrics import log_loss, accuracy_score\n",
    "from sklearn.linear_model import LogisticRegression\n",
    "from scipy.special import expit\n",
    "from matplotlib import pyplot as plt"
   ]
  },
  {
   "cell_type": "markdown",
   "id": "dfb33355",
   "metadata": {},
   "source": [
    "# Win Probability Analysis\n",
    "\n",
    "This notebook will compare several different methods to estimate win probabilities from Elo ratings, and possibly home advantage, travel distance, and rest days."
   ]
  },
  {
   "cell_type": "markdown",
   "id": "4c9dcd89",
   "metadata": {},
   "source": [
    "## Get all Games"
   ]
  },
  {
   "cell_type": "code",
   "execution_count": 2,
   "id": "b39d5800",
   "metadata": {},
   "outputs": [
    {
     "name": "stderr",
     "output_type": "stream",
     "text": [
      "/Users/lancehendricks/Documents/College Coding/ML/Elo Ratings/src/utils/utils.py:18: DtypeWarning: Columns (10,11,13,17,19,21,27,28) have mixed types. Specify dtype option on import or set low_memory=False.\n",
      "  all_games = pd.read_csv(filename)\n"
     ]
    }
   ],
   "source": [
    "all_games = load_all_games_csv('../data/gameinfo_cleaned.csv')"
   ]
  },
  {
   "cell_type": "markdown",
   "id": "909d5f6b",
   "metadata": {},
   "source": [
    "## Get Elo Rating History"
   ]
  },
  {
   "cell_type": "code",
   "execution_count": 3,
   "id": "5ca5be12",
   "metadata": {},
   "outputs": [],
   "source": [
    "teams = get_teams(all_games)\n",
    "\n",
    "et = EloTracker(teams)\n",
    "\n",
    "et.add_history(all_games)"
   ]
  },
  {
   "cell_type": "code",
   "execution_count": 4,
   "id": "928e289c",
   "metadata": {},
   "outputs": [],
   "source": [
    "# Add raw pre-game Elo Ratings\n",
    "all_games['homeelo'] = [0] * len(all_games)\n",
    "all_games['viselo'] = [0] * len(all_games)\n",
    "\n",
    "for team in teams:\n",
    "    for game in et.elos_map[team]:\n",
    "        gid = game[0]\n",
    "        elo = game[3]\n",
    "        \n",
    "        if all_games.loc[gid,'hometeam'] == team:\n",
    "            all_games.loc[gid,'homeelo'] = elo\n",
    "        else:\n",
    "            all_games.loc[gid,'viselo'] = elo\n",
    "        "
   ]
  },
  {
   "cell_type": "code",
   "execution_count": 5,
   "id": "e58d6b39",
   "metadata": {},
   "outputs": [
    {
     "data": {
      "text/html": [
       "<div>\n",
       "<style scoped>\n",
       "    .dataframe tbody tr th:only-of-type {\n",
       "        vertical-align: middle;\n",
       "    }\n",
       "\n",
       "    .dataframe tbody tr th {\n",
       "        vertical-align: top;\n",
       "    }\n",
       "\n",
       "    .dataframe thead th {\n",
       "        text-align: right;\n",
       "    }\n",
       "</style>\n",
       "<table border=\"1\" class=\"dataframe\">\n",
       "  <thead>\n",
       "    <tr style=\"text-align: right;\">\n",
       "      <th></th>\n",
       "      <th>visteam</th>\n",
       "      <th>hometeam</th>\n",
       "      <th>site</th>\n",
       "      <th>date</th>\n",
       "      <th>number</th>\n",
       "      <th>starttime</th>\n",
       "      <th>daynight</th>\n",
       "      <th>innings</th>\n",
       "      <th>tiebreaker</th>\n",
       "      <th>usedh</th>\n",
       "      <th>...</th>\n",
       "      <th>season</th>\n",
       "      <th>homewon</th>\n",
       "      <th>timestamp</th>\n",
       "      <th>Latitude</th>\n",
       "      <th>Longitude</th>\n",
       "      <th>visdistancetraveled</th>\n",
       "      <th>homerestdays</th>\n",
       "      <th>visrestdays</th>\n",
       "      <th>homeelo</th>\n",
       "      <th>viselo</th>\n",
       "    </tr>\n",
       "    <tr>\n",
       "      <th>gid</th>\n",
       "      <th></th>\n",
       "      <th></th>\n",
       "      <th></th>\n",
       "      <th></th>\n",
       "      <th></th>\n",
       "      <th></th>\n",
       "      <th></th>\n",
       "      <th></th>\n",
       "      <th></th>\n",
       "      <th></th>\n",
       "      <th></th>\n",
       "      <th></th>\n",
       "      <th></th>\n",
       "      <th></th>\n",
       "      <th></th>\n",
       "      <th></th>\n",
       "      <th></th>\n",
       "      <th></th>\n",
       "      <th></th>\n",
       "      <th></th>\n",
       "      <th></th>\n",
       "    </tr>\n",
       "  </thead>\n",
       "  <tbody>\n",
       "    <tr>\n",
       "      <th>LS3189904140</th>\n",
       "      <td>CHN</td>\n",
       "      <td>LS3</td>\n",
       "      <td>LOU03</td>\n",
       "      <td>18990414</td>\n",
       "      <td>0.0</td>\n",
       "      <td>0:00PM</td>\n",
       "      <td>day</td>\n",
       "      <td>NaN</td>\n",
       "      <td>NaN</td>\n",
       "      <td>False</td>\n",
       "      <td>...</td>\n",
       "      <td>1899</td>\n",
       "      <td>0</td>\n",
       "      <td>1899-04-14 12:00:00</td>\n",
       "      <td>38.247254</td>\n",
       "      <td>-85.799672</td>\n",
       "      <td>269.187008</td>\n",
       "      <td>365</td>\n",
       "      <td>365</td>\n",
       "      <td>1488</td>\n",
       "      <td>1512</td>\n",
       "    </tr>\n",
       "    <tr>\n",
       "      <th>PHI189904140</th>\n",
       "      <td>WSN</td>\n",
       "      <td>PHI</td>\n",
       "      <td>PHI09</td>\n",
       "      <td>18990414</td>\n",
       "      <td>0.0</td>\n",
       "      <td>0:00PM</td>\n",
       "      <td>day</td>\n",
       "      <td>NaN</td>\n",
       "      <td>NaN</td>\n",
       "      <td>False</td>\n",
       "      <td>...</td>\n",
       "      <td>1899</td>\n",
       "      <td>1</td>\n",
       "      <td>1899-04-14 12:00:00</td>\n",
       "      <td>39.993268</td>\n",
       "      <td>-75.155638</td>\n",
       "      <td>124.167063</td>\n",
       "      <td>365</td>\n",
       "      <td>365</td>\n",
       "      <td>1512</td>\n",
       "      <td>1488</td>\n",
       "    </tr>\n",
       "    <tr>\n",
       "      <th>BLN189904150</th>\n",
       "      <td>NY1</td>\n",
       "      <td>BLN</td>\n",
       "      <td>BAL07</td>\n",
       "      <td>18990415</td>\n",
       "      <td>0.0</td>\n",
       "      <td>0:00PM</td>\n",
       "      <td>day</td>\n",
       "      <td>NaN</td>\n",
       "      <td>NaN</td>\n",
       "      <td>False</td>\n",
       "      <td>...</td>\n",
       "      <td>1899</td>\n",
       "      <td>1</td>\n",
       "      <td>1899-04-15 12:00:00</td>\n",
       "      <td>39.317361</td>\n",
       "      <td>-76.612034</td>\n",
       "      <td>175.916531</td>\n",
       "      <td>365</td>\n",
       "      <td>365</td>\n",
       "      <td>1512</td>\n",
       "      <td>1488</td>\n",
       "    </tr>\n",
       "    <tr>\n",
       "      <th>BRO189904150</th>\n",
       "      <td>BSN</td>\n",
       "      <td>BRO</td>\n",
       "      <td>NYC12</td>\n",
       "      <td>18990415</td>\n",
       "      <td>0.0</td>\n",
       "      <td>0:00PM</td>\n",
       "      <td>day</td>\n",
       "      <td>NaN</td>\n",
       "      <td>NaN</td>\n",
       "      <td>False</td>\n",
       "      <td>...</td>\n",
       "      <td>1899</td>\n",
       "      <td>0</td>\n",
       "      <td>1899-04-15 12:00:00</td>\n",
       "      <td>40.675411</td>\n",
       "      <td>-73.986773</td>\n",
       "      <td>188.873979</td>\n",
       "      <td>365</td>\n",
       "      <td>365</td>\n",
       "      <td>1488</td>\n",
       "      <td>1512</td>\n",
       "    </tr>\n",
       "    <tr>\n",
       "      <th>CIN189904150</th>\n",
       "      <td>PIT</td>\n",
       "      <td>CIN</td>\n",
       "      <td>CIN05</td>\n",
       "      <td>18990415</td>\n",
       "      <td>0.0</td>\n",
       "      <td>0:00PM</td>\n",
       "      <td>day</td>\n",
       "      <td>NaN</td>\n",
       "      <td>NaN</td>\n",
       "      <td>False</td>\n",
       "      <td>...</td>\n",
       "      <td>1899</td>\n",
       "      <td>0</td>\n",
       "      <td>1899-04-15 12:00:00</td>\n",
       "      <td>39.116804</td>\n",
       "      <td>-84.535870</td>\n",
       "      <td>257.190815</td>\n",
       "      <td>365</td>\n",
       "      <td>365</td>\n",
       "      <td>1488</td>\n",
       "      <td>1512</td>\n",
       "    </tr>\n",
       "    <tr>\n",
       "      <th>...</th>\n",
       "      <td>...</td>\n",
       "      <td>...</td>\n",
       "      <td>...</td>\n",
       "      <td>...</td>\n",
       "      <td>...</td>\n",
       "      <td>...</td>\n",
       "      <td>...</td>\n",
       "      <td>...</td>\n",
       "      <td>...</td>\n",
       "      <td>...</td>\n",
       "      <td>...</td>\n",
       "      <td>...</td>\n",
       "      <td>...</td>\n",
       "      <td>...</td>\n",
       "      <td>...</td>\n",
       "      <td>...</td>\n",
       "      <td>...</td>\n",
       "      <td>...</td>\n",
       "      <td>...</td>\n",
       "      <td>...</td>\n",
       "      <td>...</td>\n",
       "    </tr>\n",
       "    <tr>\n",
       "      <th>LAN202410250</th>\n",
       "      <td>NYA</td>\n",
       "      <td>LAN</td>\n",
       "      <td>LOS03</td>\n",
       "      <td>20241025</td>\n",
       "      <td>0.0</td>\n",
       "      <td>5:08PM</td>\n",
       "      <td>night</td>\n",
       "      <td>9.0</td>\n",
       "      <td>NaN</td>\n",
       "      <td>True</td>\n",
       "      <td>...</td>\n",
       "      <td>2024</td>\n",
       "      <td>1</td>\n",
       "      <td>2024-10-25 17:08:00</td>\n",
       "      <td>34.073878</td>\n",
       "      <td>-118.239951</td>\n",
       "      <td>2448.420713</td>\n",
       "      <td>5</td>\n",
       "      <td>6</td>\n",
       "      <td>1653</td>\n",
       "      <td>1565</td>\n",
       "    </tr>\n",
       "    <tr>\n",
       "      <th>LAN202410260</th>\n",
       "      <td>NYA</td>\n",
       "      <td>LAN</td>\n",
       "      <td>LOS03</td>\n",
       "      <td>20241026</td>\n",
       "      <td>0.0</td>\n",
       "      <td>5:08PM</td>\n",
       "      <td>night</td>\n",
       "      <td>9.0</td>\n",
       "      <td>NaN</td>\n",
       "      <td>True</td>\n",
       "      <td>...</td>\n",
       "      <td>2024</td>\n",
       "      <td>1</td>\n",
       "      <td>2024-10-26 17:08:00</td>\n",
       "      <td>34.073878</td>\n",
       "      <td>-118.239951</td>\n",
       "      <td>2448.420713</td>\n",
       "      <td>1</td>\n",
       "      <td>1</td>\n",
       "      <td>1662</td>\n",
       "      <td>1556</td>\n",
       "    </tr>\n",
       "    <tr>\n",
       "      <th>NYA202410280</th>\n",
       "      <td>LAN</td>\n",
       "      <td>NYA</td>\n",
       "      <td>NYC21</td>\n",
       "      <td>20241028</td>\n",
       "      <td>0.0</td>\n",
       "      <td>8:08PM</td>\n",
       "      <td>night</td>\n",
       "      <td>9.0</td>\n",
       "      <td>NaN</td>\n",
       "      <td>True</td>\n",
       "      <td>...</td>\n",
       "      <td>2024</td>\n",
       "      <td>0</td>\n",
       "      <td>2024-10-28 20:08:00</td>\n",
       "      <td>40.829586</td>\n",
       "      <td>-73.926413</td>\n",
       "      <td>2448.420713</td>\n",
       "      <td>2</td>\n",
       "      <td>2</td>\n",
       "      <td>1548</td>\n",
       "      <td>1670</td>\n",
       "    </tr>\n",
       "    <tr>\n",
       "      <th>NYA202410290</th>\n",
       "      <td>LAN</td>\n",
       "      <td>NYA</td>\n",
       "      <td>NYC21</td>\n",
       "      <td>20241029</td>\n",
       "      <td>0.0</td>\n",
       "      <td>8:08PM</td>\n",
       "      <td>night</td>\n",
       "      <td>9.0</td>\n",
       "      <td>NaN</td>\n",
       "      <td>True</td>\n",
       "      <td>...</td>\n",
       "      <td>2024</td>\n",
       "      <td>1</td>\n",
       "      <td>2024-10-29 20:08:00</td>\n",
       "      <td>40.829586</td>\n",
       "      <td>-73.926413</td>\n",
       "      <td>2448.420713</td>\n",
       "      <td>1</td>\n",
       "      <td>1</td>\n",
       "      <td>1564</td>\n",
       "      <td>1654</td>\n",
       "    </tr>\n",
       "    <tr>\n",
       "      <th>NYA202410300</th>\n",
       "      <td>LAN</td>\n",
       "      <td>NYA</td>\n",
       "      <td>NYC21</td>\n",
       "      <td>20241030</td>\n",
       "      <td>0.0</td>\n",
       "      <td>8:08PM</td>\n",
       "      <td>night</td>\n",
       "      <td>9.0</td>\n",
       "      <td>NaN</td>\n",
       "      <td>True</td>\n",
       "      <td>...</td>\n",
       "      <td>2024</td>\n",
       "      <td>0</td>\n",
       "      <td>2024-10-30 20:08:00</td>\n",
       "      <td>40.829586</td>\n",
       "      <td>-73.926413</td>\n",
       "      <td>2448.420713</td>\n",
       "      <td>1</td>\n",
       "      <td>1</td>\n",
       "      <td>1555</td>\n",
       "      <td>1663</td>\n",
       "    </tr>\n",
       "  </tbody>\n",
       "</table>\n",
       "<p>214290 rows × 51 columns</p>\n",
       "</div>"
      ],
      "text/plain": [
       "             visteam hometeam   site      date  number starttime daynight  \\\n",
       "gid                                                                         \n",
       "LS3189904140     CHN      LS3  LOU03  18990414     0.0    0:00PM      day   \n",
       "PHI189904140     WSN      PHI  PHI09  18990414     0.0    0:00PM      day   \n",
       "BLN189904150     NY1      BLN  BAL07  18990415     0.0    0:00PM      day   \n",
       "BRO189904150     BSN      BRO  NYC12  18990415     0.0    0:00PM      day   \n",
       "CIN189904150     PIT      CIN  CIN05  18990415     0.0    0:00PM      day   \n",
       "...              ...      ...    ...       ...     ...       ...      ...   \n",
       "LAN202410250     NYA      LAN  LOS03  20241025     0.0    5:08PM    night   \n",
       "LAN202410260     NYA      LAN  LOS03  20241026     0.0    5:08PM    night   \n",
       "NYA202410280     LAN      NYA  NYC21  20241028     0.0    8:08PM    night   \n",
       "NYA202410290     LAN      NYA  NYC21  20241029     0.0    8:08PM    night   \n",
       "NYA202410300     LAN      NYA  NYC21  20241030     0.0    8:08PM    night   \n",
       "\n",
       "              innings  tiebreaker  usedh  ... season  homewon  \\\n",
       "gid                                       ...                   \n",
       "LS3189904140      NaN         NaN  False  ...   1899        0   \n",
       "PHI189904140      NaN         NaN  False  ...   1899        1   \n",
       "BLN189904150      NaN         NaN  False  ...   1899        1   \n",
       "BRO189904150      NaN         NaN  False  ...   1899        0   \n",
       "CIN189904150      NaN         NaN  False  ...   1899        0   \n",
       "...               ...         ...    ...  ...    ...      ...   \n",
       "LAN202410250      9.0         NaN   True  ...   2024        1   \n",
       "LAN202410260      9.0         NaN   True  ...   2024        1   \n",
       "NYA202410280      9.0         NaN   True  ...   2024        0   \n",
       "NYA202410290      9.0         NaN   True  ...   2024        1   \n",
       "NYA202410300      9.0         NaN   True  ...   2024        0   \n",
       "\n",
       "                       timestamp   Latitude   Longitude visdistancetraveled  \\\n",
       "gid                                                                           \n",
       "LS3189904140 1899-04-14 12:00:00  38.247254  -85.799672          269.187008   \n",
       "PHI189904140 1899-04-14 12:00:00  39.993268  -75.155638          124.167063   \n",
       "BLN189904150 1899-04-15 12:00:00  39.317361  -76.612034          175.916531   \n",
       "BRO189904150 1899-04-15 12:00:00  40.675411  -73.986773          188.873979   \n",
       "CIN189904150 1899-04-15 12:00:00  39.116804  -84.535870          257.190815   \n",
       "...                          ...        ...         ...                 ...   \n",
       "LAN202410250 2024-10-25 17:08:00  34.073878 -118.239951         2448.420713   \n",
       "LAN202410260 2024-10-26 17:08:00  34.073878 -118.239951         2448.420713   \n",
       "NYA202410280 2024-10-28 20:08:00  40.829586  -73.926413         2448.420713   \n",
       "NYA202410290 2024-10-29 20:08:00  40.829586  -73.926413         2448.420713   \n",
       "NYA202410300 2024-10-30 20:08:00  40.829586  -73.926413         2448.420713   \n",
       "\n",
       "             homerestdays visrestdays homeelo viselo  \n",
       "gid                                                   \n",
       "LS3189904140          365         365    1488   1512  \n",
       "PHI189904140          365         365    1512   1488  \n",
       "BLN189904150          365         365    1512   1488  \n",
       "BRO189904150          365         365    1488   1512  \n",
       "CIN189904150          365         365    1488   1512  \n",
       "...                   ...         ...     ...    ...  \n",
       "LAN202410250            5           6    1653   1565  \n",
       "LAN202410260            1           1    1662   1556  \n",
       "NYA202410280            2           2    1548   1670  \n",
       "NYA202410290            1           1    1564   1654  \n",
       "NYA202410300            1           1    1555   1663  \n",
       "\n",
       "[214290 rows x 51 columns]"
      ]
     },
     "execution_count": 5,
     "metadata": {},
     "output_type": "execute_result"
    }
   ],
   "source": [
    "# Drop rows with na travel distance\n",
    "all_games = all_games.dropna(subset='visdistancetraveled').copy()\n",
    "all_games[all_games.isna().any(axis=1)]"
   ]
  },
  {
   "cell_type": "markdown",
   "id": "0c3363de",
   "metadata": {},
   "source": [
    "## Evaluate Simple Probability model"
   ]
  },
  {
   "cell_type": "code",
   "execution_count": 6,
   "id": "9f38d957",
   "metadata": {},
   "outputs": [],
   "source": [
    "def basic_win_prob(home_elo: float, away_elo: float) -> float:\n",
    "    \"\"\"Fetches the basic Elo probability the home team wins, given each team's Elo.\n",
    "    \n",
    "    The basic Elo probability is given by 1 / (1+10^((away_elo - home_elo) / 400).\n",
    "    \n",
    "    Args:\n",
    "        home_elo (float): Home team Elo.\n",
    "        away_elo (float): Away team Elo.\n",
    "        \n",
    "    Returns:\n",
    "        float: The basic probability the home team wins.\n",
    "    \"\"\"\n",
    "    return 1 / (1+10**((away_elo - home_elo) / 400))"
   ]
  },
  {
   "cell_type": "code",
   "execution_count": 7,
   "id": "559a9f15",
   "metadata": {},
   "outputs": [
    {
     "name": "stdout",
     "output_type": "stream",
     "text": [
      "BCE: 0.6238936941957086\n",
      "Accuracy: 0.6663960054132251\n"
     ]
    }
   ],
   "source": [
    "all_games['homewinprob'] = all_games.apply(lambda game: basic_win_prob(game['homeelo'], game['viselo']), axis=1)\n",
    "print(\"BCE:\", log_loss(all_games['homewon'], all_games['homewinprob']))\n",
    "print(\"Accuracy:\", accuracy_score(all_games['homewon'], all_games['homewinprob'].apply(lambda x: 1 if x >= 0.5 else 0)))"
   ]
  },
  {
   "cell_type": "code",
   "execution_count": 8,
   "id": "140cba81",
   "metadata": {},
   "outputs": [
    {
     "data": {
      "text/plain": [
       "(array([  301.,  3735., 14992., 35120., 51242., 52080., 36951., 16049.,\n",
       "         3490.,   330.]),\n",
       " array([0.08671721, 0.16968762, 0.25265804, 0.33562846, 0.41859887,\n",
       "        0.50156929, 0.58453971, 0.66751013, 0.75048054, 0.83345096,\n",
       "        0.91642138]),\n",
       " <BarContainer object of 10 artists>)"
      ]
     },
     "execution_count": 8,
     "metadata": {},
     "output_type": "execute_result"
    },
    {
     "data": {
      "image/png": "[encoded data removed]",
      "text/plain": [
       "<Figure size 640x480 with 1 Axes>"
      ]
     },
     "metadata": {},
     "output_type": "display_data"
    }
   ],
   "source": [
    "plt.hist(all_games['homewinprob'])"
   ]
  },
  {
   "cell_type": "markdown",
   "id": "720cb0ab",
   "metadata": {},
   "source": [
    "## With + 1.9% Adjustment for Home Team"
   ]
  },
  {
   "cell_type": "code",
   "execution_count": 9,
   "id": "36831be8",
   "metadata": {},
   "outputs": [],
   "source": [
    "def win_prob_home_pct_adj(home_elo: float, away_elo: float, home_pct_adj=.019) -> float:\n",
    "    \"\"\"Fetches probability the home team wins, given each team's Elo, with a % boost of home_pct_adj to the home team elo..\n",
    "    \n",
    "    The probability is given by 1 / (1+10^((away_elo - (1+home_pct_adj)*home_elo) / 400).\n",
    "    \n",
    "    Args:\n",
    "        home_elo (float): Home team Elo.\n",
    "        away_elo (float): Away team Elo.\n",
    "        \n",
    "    Returns:\n",
    "        float: The basic probability the home team wins.\n",
    "    \"\"\"\n",
    "    return 1 / (1+10**((away_elo - (1+home_pct_adj)*home_elo) / 400))"
   ]
  },
  {
   "cell_type": "code",
   "execution_count": 10,
   "id": "f12c5683",
   "metadata": {},
   "outputs": [
    {
     "name": "stdout",
     "output_type": "stream",
     "text": [
      "BCE: 0.6209700505861759\n",
      "Accuracy: 0.6660833449997666\n"
     ]
    }
   ],
   "source": [
    "all_games['homewinprob'] = all_games.apply(lambda game: win_prob_home_pct_adj(game['homeelo'], game['viselo']), axis=1)\n",
    "print(\"BCE:\", log_loss(all_games['homewon'], all_games['homewinprob']))\n",
    "print(\"Accuracy:\", accuracy_score(all_games['homewon'], all_games['homewinprob'].apply(lambda x: 1 if x >= 0.5 else 0)))"
   ]
  },
  {
   "cell_type": "code",
   "execution_count": 11,
   "id": "4bf3855d",
   "metadata": {},
   "outputs": [
    {
     "data": {
      "text/plain": [
       "(array([  217.,  2467., 10595., 27293., 45069., 55945., 43437., 23021.,\n",
       "         5755.,   491.]),\n",
       " array([0.09905898, 0.18204663, 0.26503427, 0.34802192, 0.43100957,\n",
       "        0.51399721, 0.59698486, 0.67997251, 0.76296015, 0.8459478 ,\n",
       "        0.92893545]),\n",
       " <BarContainer object of 10 artists>)"
      ]
     },
     "execution_count": 11,
     "metadata": {},
     "output_type": "execute_result"
    },
    {
     "data": {
      "image/png": "[encoded data removed]",
      "text/plain": [
       "<Figure size 640x480 with 1 Axes>"
      ]
     },
     "metadata": {},
     "output_type": "display_data"
    }
   ],
   "source": [
    "plt.hist(all_games['homewinprob'])"
   ]
  },
  {
   "cell_type": "markdown",
   "id": "e8c13e2a",
   "metadata": {},
   "source": [
    "## With Logistic Regression"
   ]
  },
  {
   "cell_type": "code",
   "execution_count": null,
   "id": "5934e9ad",
   "metadata": {},
   "outputs": [],
   "source": [
    "all_games['visminushomeelo'] = all_games['viselo'] - all_games['homeelo']\n",
    "all_games['visminushomerestdays'] = all_games['visrestdays'] - all_games['homerestdays']\n",
    "all_games['visminushometraveldist'] = all_games['visdistancetraveled'] - 0\n",
    "all_games['visminushomeadvantage'] = 0 - 1\n",
    "\n",
    "X = all_games[['visminushomeelo', 'visminushomerestdays', 'visminushometraveldist', 'visminushomeadvantage']].to_numpy()\n",
    "\n",
    "# We use 1/(1+10^((R_a - R_h)/400), but ordinary logistic regression uses 1/(1+e^(-x)), so we have to scale by -ln(10)/400 so\n",
    "# that the learned weights will be correct for the original equation.\n",
    "\n",
    "# I could also just re-calculate the gradient with the original pdf instead and avoid having to convert back and forth.\n",
    "X = (-np.log(10) / 400) * X\n",
    "\n",
    "n = X.shape[0]\n",
    "\n",
    "y = all_games['homewon'].to_numpy().reshape(-1,1)\n"
   ]
  },
  {
   "cell_type": "code",
   "execution_count": 22,
   "id": "9a2dcbca",
   "metadata": {},
   "outputs": [
    {
     "data": {
      "text/plain": [
       "array([[ 1.        ],\n",
       "       [ 2.31058013],\n",
       "       [-0.01885648],\n",
       "       [ 0.51081107]])"
      ]
     },
     "execution_count": 22,
     "metadata": {},
     "output_type": "execute_result"
    }
   ],
   "source": [
    "# Fit model via GD\n",
    "w = np.random.randn(4).reshape(-1,1)\n",
    "w[0,0] = 1\n",
    "\n",
    "step = 0.001\n",
    "iterations = 10000\n",
    "\n",
    "for _ in range(iterations):\n",
    "    #print(log_loss(y, expit(w.T.dot(X.T)).reshape(-1,1)))\n",
    "    \n",
    "    w_grad = (1/n)* np.sum((expit(w.T.dot(X.T)).reshape(-1,1) - y) * X, axis=0).reshape(-1,1)\n",
    "    \n",
    "    w_grad[0,0] = 0\n",
    "    \n",
    "    w = w - step*w_grad\n",
    "    \n",
    "w\n"
   ]
  },
  {
   "cell_type": "code",
   "execution_count": 23,
   "id": "9c7df234",
   "metadata": {},
   "outputs": [],
   "source": [
    "def predict_lr(home_elo, away_elo, home_rest_days, away_rest_days, away_dist_traveled):\n",
    "    elo_diff = away_elo - home_elo\n",
    "    rest_day_diff = away_rest_days - home_rest_days\n",
    "    travel_diff = away_dist_traveled - 0\n",
    "    home_adv_diff = 0 - 1\n",
    "    \n",
    "    x = (-np.log(10) / 400) * np.array([elo_diff, rest_day_diff, travel_diff, home_adv_diff]).reshape(-1,1)\n",
    "    return expit(w.T.dot(x)).item()"
   ]
  },
  {
   "cell_type": "code",
   "execution_count": 24,
   "id": "62a65e67",
   "metadata": {},
   "outputs": [
    {
     "name": "stdout",
     "output_type": "stream",
     "text": [
      "BCE: 0.624281359729638\n",
      "Accuracy: 0.6658546829063419\n"
     ]
    }
   ],
   "source": [
    "all_games['homewinprob'] = all_games.apply(lambda game: predict_lr(game['homeelo'], game['viselo'], game['homerestdays'], game['visrestdays'], game['visdistancetraveled']), axis=1)\n",
    "print(\"BCE:\", log_loss(all_games['homewon'], all_games['homewinprob']))\n",
    "print(\"Accuracy:\", accuracy_score(all_games['homewon'], all_games['homewinprob'].apply(lambda x: 1 if x >= 0.5 else 0)))"
   ]
  },
  {
   "cell_type": "code",
   "execution_count": 21,
   "id": "094e6ccc",
   "metadata": {},
   "outputs": [
    {
     "data": {
      "text/plain": [
       "(array([1.20000e+01, 0.00000e+00, 4.00000e+00, 1.20100e+03, 6.35970e+04,\n",
       "        1.37372e+05, 1.20640e+04, 2.20000e+01, 0.00000e+00, 1.80000e+01]),\n",
       " array([1.13892143e-62, 1.00000000e-01, 2.00000000e-01, 3.00000000e-01,\n",
       "        4.00000000e-01, 5.00000000e-01, 6.00000000e-01, 7.00000000e-01,\n",
       "        8.00000000e-01, 9.00000000e-01, 1.00000000e+00]),\n",
       " <BarContainer object of 10 artists>)"
      ]
     },
     "execution_count": 21,
     "metadata": {},
     "output_type": "execute_result"
    },
    {
     "data": {
      "image/png": "[encoded data removed]",
      "text/plain": [
       "<Figure size 640x480 with 1 Axes>"
      ]
     },
     "metadata": {},
     "output_type": "display_data"
    }
   ],
   "source": [
    "plt.hist(all_games['homewinprob'])"
   ]
  }
 ],
 "metadata": {
  "kernelspec": {
   "display_name": "base",
   "language": "python",
   "name": "python3"
  },
  "language_info": {
   "codemirror_mode": {
    "name": "ipython",
    "version": 3
   },
   "file_extension": ".py",
   "mimetype": "text/x-python",
   "name": "python",
   "nbconvert_exporter": "python",
   "pygments_lexer": "ipython3",
   "version": "3.12.4"
  }
 },
 "nbformat": 4,
 "nbformat_minor": 5
}
