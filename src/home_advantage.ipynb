{
 "cells": [
  {
   "cell_type": "code",
   "execution_count": 12,
   "id": "6401470f",
   "metadata": {},
   "outputs": [],
   "source": [
    "import pandas as pd\n",
    "import numpy as np\n",
    "from utils.utils import load_all_games_csv, get_teams\n",
    "from scipy.stats import logistic\n"
   ]
  },
  {
   "cell_type": "markdown",
   "id": "5fa554a6",
   "metadata": {},
   "source": [
    "# Home Field Advantage Analysis\n",
    "This notebook will examine the relationship between home field advantage and the probability of a given team winning."
   ]
  },
  {
   "cell_type": "code",
   "execution_count": 3,
   "id": "e66b8e02",
   "metadata": {},
   "outputs": [],
   "source": [
    "# Show all rows\n",
    "pd.set_option('display.max_rows', None)"
   ]
  },
  {
   "cell_type": "markdown",
   "id": "9019b1a6",
   "metadata": {},
   "source": [
    "## Get all Games"
   ]
  },
  {
   "cell_type": "code",
   "execution_count": 4,
   "id": "5b4d9540",
   "metadata": {},
   "outputs": [
    {
     "name": "stderr",
     "output_type": "stream",
     "text": [
      "/Users/lancehendricks/Documents/College Coding/ML/Elo Ratings/src/utils/utils.py:17: DtypeWarning: Columns (10,11,13,17,19,21,27,28) have mixed types. Specify dtype option on import or set low_memory=False.\n",
      "  all_games = pd.read_csv(filename)\n"
     ]
    }
   ],
   "source": [
    "all_games = load_all_games_csv('../data/gameinfo_cleaned.csv')"
   ]
  },
  {
   "cell_type": "markdown",
   "id": "b250c48b",
   "metadata": {},
   "source": [
    "## Probability of Home Team and Away Teams Winning Across all Games"
   ]
  },
  {
   "cell_type": "code",
   "execution_count": 5,
   "id": "540173c6",
   "metadata": {},
   "outputs": [
    {
     "name": "stdout",
     "output_type": "stream",
     "text": [
      "% of all games won by home team: 53.91382676646898%\n",
      "% of all games won by away team: 46.08617323353102%\n"
     ]
    }
   ],
   "source": [
    "print(f\"% of all games won by home team: {100 * all_games['homewon'].sum() / all_games.shape[0]}%\")\n",
    "print(f\"% of all games won by away team: {100 * (1 - all_games['homewon']).sum() / all_games.shape[0]}%\")"
   ]
  },
  {
   "cell_type": "code",
   "execution_count": 13,
   "id": "72c56d2b",
   "metadata": {},
   "outputs": [
    {
     "data": {
      "text/plain": [
       "27.85437125655779"
      ]
     },
     "execution_count": 13,
     "metadata": {},
     "output_type": "execute_result"
    }
   ],
   "source": [
    "# Find where that probability would lie in the win pdf\n",
    "logistic.ppf(0.54, loc=0, scale=400/np.log(10))"
   ]
  },
  {
   "cell_type": "code",
   "execution_count": 14,
   "id": "0c8ab502",
   "metadata": {},
   "outputs": [
    {
     "data": {
      "text/plain": [
       "1.8666666666666667"
      ]
     },
     "execution_count": 14,
     "metadata": {},
     "output_type": "execute_result"
    }
   ],
   "source": [
    "# Initial adjustment as a % of 1500\n",
    "100 * 28 / 1500"
   ]
  },
  {
   "cell_type": "markdown",
   "id": "09156187",
   "metadata": {},
   "source": [
    "## Probability of Winning at Home and Away per Existing Team - Over their entire history"
   ]
  },
  {
   "cell_type": "code",
   "execution_count": 6,
   "id": "4a80c1ad",
   "metadata": {},
   "outputs": [],
   "source": [
    "# Get 2024 teams\n",
    "games_24 = all_games[all_games['season']==2024]\n",
    "current_teams = get_teams(games_24)"
   ]
  },
  {
   "cell_type": "code",
   "execution_count": 7,
   "id": "7f5a054f",
   "metadata": {},
   "outputs": [
    {
     "data": {
      "text/html": [
       "<div>\n",
       "<style scoped>\n",
       "    .dataframe tbody tr th:only-of-type {\n",
       "        vertical-align: middle;\n",
       "    }\n",
       "\n",
       "    .dataframe tbody tr th {\n",
       "        vertical-align: top;\n",
       "    }\n",
       "\n",
       "    .dataframe thead th {\n",
       "        text-align: right;\n",
       "    }\n",
       "</style>\n",
       "<table border=\"1\" class=\"dataframe\">\n",
       "  <thead>\n",
       "    <tr style=\"text-align: right;\">\n",
       "      <th></th>\n",
       "      <th>Team</th>\n",
       "      <th>Home Win %</th>\n",
       "      <th>Away Win %</th>\n",
       "      <th>Difference</th>\n",
       "    </tr>\n",
       "  </thead>\n",
       "  <tbody>\n",
       "    <tr>\n",
       "      <th>2</th>\n",
       "      <td>COL</td>\n",
       "      <td>53.592696</td>\n",
       "      <td>38.851485</td>\n",
       "      <td>14.741210</td>\n",
       "    </tr>\n",
       "    <tr>\n",
       "      <th>26</th>\n",
       "      <td>HOU</td>\n",
       "      <td>55.463511</td>\n",
       "      <td>45.029586</td>\n",
       "      <td>10.433925</td>\n",
       "    </tr>\n",
       "    <tr>\n",
       "      <th>21</th>\n",
       "      <td>BOS</td>\n",
       "      <td>56.457565</td>\n",
       "      <td>47.162648</td>\n",
       "      <td>9.294917</td>\n",
       "    </tr>\n",
       "    <tr>\n",
       "      <th>25</th>\n",
       "      <td>TBA</td>\n",
       "      <td>53.296450</td>\n",
       "      <td>44.480370</td>\n",
       "      <td>8.816080</td>\n",
       "    </tr>\n",
       "    <tr>\n",
       "      <th>27</th>\n",
       "      <td>TEX</td>\n",
       "      <td>53.178368</td>\n",
       "      <td>44.579173</td>\n",
       "      <td>8.599196</td>\n",
       "    </tr>\n",
       "    <tr>\n",
       "      <th>18</th>\n",
       "      <td>SFN</td>\n",
       "      <td>55.978362</td>\n",
       "      <td>47.450028</td>\n",
       "      <td>8.528334</td>\n",
       "    </tr>\n",
       "    <tr>\n",
       "      <th>23</th>\n",
       "      <td>OAK</td>\n",
       "      <td>55.363398</td>\n",
       "      <td>47.082054</td>\n",
       "      <td>8.281344</td>\n",
       "    </tr>\n",
       "    <tr>\n",
       "      <th>24</th>\n",
       "      <td>NYA</td>\n",
       "      <td>61.095101</td>\n",
       "      <td>52.840267</td>\n",
       "      <td>8.254834</td>\n",
       "    </tr>\n",
       "    <tr>\n",
       "      <th>4</th>\n",
       "      <td>PIT</td>\n",
       "      <td>54.461756</td>\n",
       "      <td>46.469271</td>\n",
       "      <td>7.992485</td>\n",
       "    </tr>\n",
       "    <tr>\n",
       "      <th>12</th>\n",
       "      <td>PHI</td>\n",
       "      <td>51.016467</td>\n",
       "      <td>43.130505</td>\n",
       "      <td>7.885962</td>\n",
       "    </tr>\n",
       "    <tr>\n",
       "      <th>29</th>\n",
       "      <td>MIA</td>\n",
       "      <td>47.236181</td>\n",
       "      <td>39.447732</td>\n",
       "      <td>7.788449</td>\n",
       "    </tr>\n",
       "    <tr>\n",
       "      <th>17</th>\n",
       "      <td>MIN</td>\n",
       "      <td>53.437500</td>\n",
       "      <td>45.786682</td>\n",
       "      <td>7.650818</td>\n",
       "    </tr>\n",
       "    <tr>\n",
       "      <th>15</th>\n",
       "      <td>DET</td>\n",
       "      <td>54.099034</td>\n",
       "      <td>46.489876</td>\n",
       "      <td>7.609159</td>\n",
       "    </tr>\n",
       "    <tr>\n",
       "      <th>13</th>\n",
       "      <td>KCA</td>\n",
       "      <td>51.494046</td>\n",
       "      <td>43.904079</td>\n",
       "      <td>7.589967</td>\n",
       "    </tr>\n",
       "    <tr>\n",
       "      <th>22</th>\n",
       "      <td>CHA</td>\n",
       "      <td>53.718240</td>\n",
       "      <td>46.155434</td>\n",
       "      <td>7.562806</td>\n",
       "    </tr>\n",
       "    <tr>\n",
       "      <th>16</th>\n",
       "      <td>CHN</td>\n",
       "      <td>54.035829</td>\n",
       "      <td>46.641563</td>\n",
       "      <td>7.394266</td>\n",
       "    </tr>\n",
       "    <tr>\n",
       "      <th>5</th>\n",
       "      <td>SDN</td>\n",
       "      <td>50.303030</td>\n",
       "      <td>42.943820</td>\n",
       "      <td>7.359210</td>\n",
       "    </tr>\n",
       "    <tr>\n",
       "      <th>14</th>\n",
       "      <td>CIN</td>\n",
       "      <td>53.510456</td>\n",
       "      <td>46.162448</td>\n",
       "      <td>7.348008</td>\n",
       "    </tr>\n",
       "    <tr>\n",
       "      <th>8</th>\n",
       "      <td>LAN</td>\n",
       "      <td>58.387156</td>\n",
       "      <td>51.116442</td>\n",
       "      <td>7.270714</td>\n",
       "    </tr>\n",
       "    <tr>\n",
       "      <th>11</th>\n",
       "      <td>MIL</td>\n",
       "      <td>52.462772</td>\n",
       "      <td>45.283883</td>\n",
       "      <td>7.178889</td>\n",
       "    </tr>\n",
       "    <tr>\n",
       "      <th>7</th>\n",
       "      <td>CLE</td>\n",
       "      <td>54.802260</td>\n",
       "      <td>47.697063</td>\n",
       "      <td>7.105197</td>\n",
       "    </tr>\n",
       "    <tr>\n",
       "      <th>20</th>\n",
       "      <td>SLN</td>\n",
       "      <td>55.606774</td>\n",
       "      <td>48.607748</td>\n",
       "      <td>6.999026</td>\n",
       "    </tr>\n",
       "    <tr>\n",
       "      <th>3</th>\n",
       "      <td>TOR</td>\n",
       "      <td>53.286015</td>\n",
       "      <td>46.343381</td>\n",
       "      <td>6.942633</td>\n",
       "    </tr>\n",
       "    <tr>\n",
       "      <th>1</th>\n",
       "      <td>ARI</td>\n",
       "      <td>52.125693</td>\n",
       "      <td>45.588915</td>\n",
       "      <td>6.536779</td>\n",
       "    </tr>\n",
       "    <tr>\n",
       "      <th>19</th>\n",
       "      <td>SEA</td>\n",
       "      <td>50.923970</td>\n",
       "      <td>44.423987</td>\n",
       "      <td>6.499983</td>\n",
       "    </tr>\n",
       "    <tr>\n",
       "      <th>0</th>\n",
       "      <td>NYN</td>\n",
       "      <td>51.548233</td>\n",
       "      <td>45.266918</td>\n",
       "      <td>6.281315</td>\n",
       "    </tr>\n",
       "    <tr>\n",
       "      <th>6</th>\n",
       "      <td>ANA</td>\n",
       "      <td>54.181495</td>\n",
       "      <td>48.164727</td>\n",
       "      <td>6.016768</td>\n",
       "    </tr>\n",
       "    <tr>\n",
       "      <th>28</th>\n",
       "      <td>ATL</td>\n",
       "      <td>54.982094</td>\n",
       "      <td>49.001891</td>\n",
       "      <td>5.980203</td>\n",
       "    </tr>\n",
       "    <tr>\n",
       "      <th>10</th>\n",
       "      <td>WAS</td>\n",
       "      <td>51.038389</td>\n",
       "      <td>45.356917</td>\n",
       "      <td>5.681472</td>\n",
       "    </tr>\n",
       "    <tr>\n",
       "      <th>9</th>\n",
       "      <td>BAL</td>\n",
       "      <td>53.278979</td>\n",
       "      <td>47.833775</td>\n",
       "      <td>5.445204</td>\n",
       "    </tr>\n",
       "  </tbody>\n",
       "</table>\n",
       "</div>"
      ],
      "text/plain": [
       "   Team  Home Win %  Away Win %  Difference\n",
       "2   COL   53.592696   38.851485   14.741210\n",
       "26  HOU   55.463511   45.029586   10.433925\n",
       "21  BOS   56.457565   47.162648    9.294917\n",
       "25  TBA   53.296450   44.480370    8.816080\n",
       "27  TEX   53.178368   44.579173    8.599196\n",
       "18  SFN   55.978362   47.450028    8.528334\n",
       "23  OAK   55.363398   47.082054    8.281344\n",
       "24  NYA   61.095101   52.840267    8.254834\n",
       "4   PIT   54.461756   46.469271    7.992485\n",
       "12  PHI   51.016467   43.130505    7.885962\n",
       "29  MIA   47.236181   39.447732    7.788449\n",
       "17  MIN   53.437500   45.786682    7.650818\n",
       "15  DET   54.099034   46.489876    7.609159\n",
       "13  KCA   51.494046   43.904079    7.589967\n",
       "22  CHA   53.718240   46.155434    7.562806\n",
       "16  CHN   54.035829   46.641563    7.394266\n",
       "5   SDN   50.303030   42.943820    7.359210\n",
       "14  CIN   53.510456   46.162448    7.348008\n",
       "8   LAN   58.387156   51.116442    7.270714\n",
       "11  MIL   52.462772   45.283883    7.178889\n",
       "7   CLE   54.802260   47.697063    7.105197\n",
       "20  SLN   55.606774   48.607748    6.999026\n",
       "3   TOR   53.286015   46.343381    6.942633\n",
       "1   ARI   52.125693   45.588915    6.536779\n",
       "19  SEA   50.923970   44.423987    6.499983\n",
       "0   NYN   51.548233   45.266918    6.281315\n",
       "6   ANA   54.181495   48.164727    6.016768\n",
       "28  ATL   54.982094   49.001891    5.980203\n",
       "10  WAS   51.038389   45.356917    5.681472\n",
       "9   BAL   53.278979   47.833775    5.445204"
      ]
     },
     "execution_count": 7,
     "metadata": {},
     "output_type": "execute_result"
    }
   ],
   "source": [
    "home_win_pcts = np.array([])\n",
    "away_win_pcts = np.array([])\n",
    "for team in current_teams:\n",
    "    home_games = all_games[all_games['hometeam'] == team]\n",
    "    away_games = all_games[all_games['visteam'] == team]\n",
    "    \n",
    "    home_win_pcts = np.append(home_win_pcts, 100 * home_games['homewon'].sum() / home_games.shape[0])\n",
    "    away_win_pcts = np.append(away_win_pcts, 100 * (1 - away_games['homewon']).sum() / away_games.shape[0])\n",
    "    \n",
    "# Create DataFrame of team and win %, sorted by win %\n",
    "win_pct_df = pd.DataFrame({\"Team\":list(current_teams), \"Home Win %\":home_win_pcts, \"Away Win %\":away_win_pcts, \"Difference\": home_win_pcts - away_win_pcts}).sort_values(by=\"Difference\", ascending=False)\n",
    "win_pct_df"
   ]
  }
 ],
 "metadata": {
  "kernelspec": {
   "display_name": "base",
   "language": "python",
   "name": "python3"
  },
  "language_info": {
   "codemirror_mode": {
    "name": "ipython",
    "version": 3
   },
   "file_extension": ".py",
   "mimetype": "text/x-python",
   "name": "python",
   "nbconvert_exporter": "python",
   "pygments_lexer": "ipython3",
   "version": "3.12.4"
  }
 },
 "nbformat": 4,
 "nbformat_minor": 5
}
